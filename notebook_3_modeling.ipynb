{
 "cells": [
  {
   "cell_type": "markdown",
   "metadata": {
    "toc": true
   },
   "source": [
    "<h1>Table of Contents<span class=\"tocSkip\"></span></h1>\n",
    "<div class=\"toc\"><ul class=\"toc-item\"></ul></div>"
   ]
  },
  {
   "cell_type": "code",
   "execution_count": null,
   "metadata": {
    "ExecuteTime": {
     "end_time": "2020-02-06T17:38:28.645921Z",
     "start_time": "2020-02-06T17:38:23.968159Z"
    }
   },
   "outputs": [],
   "source": [
    "import requests\n",
    "import re\n",
    "import dateutil.parser\n",
    "from bs4 import BeautifulSoup\n",
    "import pandas as pd\n",
    "import numpy as np\n",
    "import pickle\n",
    "import sys\n",
    "import datetime as dt\n",
    "import statsmodels.api as sm\n",
    "import statsmodels.formula.api as smf\n",
    "import patsy\n",
    "\n",
    "\n",
    "from sklearn.linear_model import Ridge\n",
    "from sklearn.linear_model import Lasso\n",
    "from sklearn.linear_model import LassoCV\n",
    "from sklearn.linear_model import LinearRegression\n",
    "from sklearn.linear_model import RidgeCV\n",
    "from sklearn.model_selection import train_test_split\n",
    "from sklearn.model_selection import KFold\n",
    "from sklearn.preprocessing import StandardScaler, PolynomialFeatures\n",
    "from sklearn.pipeline import Pipeline\n",
    "from sklearn.metrics import r2_score\n",
    "\n",
    "\n",
    "%matplotlib inline\n",
    "import seaborn as sns\n",
    "sns.set()\n",
    "import matplotlib.pyplot as plt"
   ]
  },
  {
   "cell_type": "code",
   "execution_count": null,
   "metadata": {
    "ExecuteTime": {
     "end_time": "2020-02-06T17:38:30.877983Z",
     "start_time": "2020-02-06T17:38:30.861421Z"
    }
   },
   "outputs": [],
   "source": [
    "with open(\"modeling_data.pkl\", 'rb') as picklefile: \n",
    "    df = pickle.load(picklefile)"
   ]
  },
  {
   "cell_type": "code",
   "execution_count": null,
   "metadata": {
    "ExecuteTime": {
     "end_time": "2020-02-06T17:38:31.401885Z",
     "start_time": "2020-02-06T17:38:31.390898Z"
    }
   },
   "outputs": [],
   "source": [
    "df.info()"
   ]
  },
  {
   "cell_type": "code",
   "execution_count": null,
   "metadata": {
    "ExecuteTime": {
     "end_time": "2020-02-06T17:39:46.148632Z",
     "start_time": "2020-02-06T17:39:45.233570Z"
    }
   },
   "outputs": [],
   "source": [
    "sns.heatmap(df.corr(), cmap=\"seismic\", annot=True, vmin=-1, vmax=1);"
   ]
  },
  {
   "cell_type": "code",
   "execution_count": null,
   "metadata": {
    "ExecuteTime": {
     "end_time": "2020-02-06T17:40:14.825885Z",
     "start_time": "2020-02-06T17:39:46.257644Z"
    }
   },
   "outputs": [],
   "source": [
    "plot_df = df.loc[:,['Runtime(min)','Widest Release','Budget Adj',\n",
    "               'Franchise Flag','GDP','Days in Release Calc','Netflix','CNK','Domestic Total Gross']]\n",
    "sns.pairplot(plot_df);"
   ]
  },
  {
   "cell_type": "code",
   "execution_count": null,
   "metadata": {
    "ExecuteTime": {
     "end_time": "2020-02-06T17:40:14.973048Z",
     "start_time": "2020-02-06T17:40:14.956970Z"
    }
   },
   "outputs": [],
   "source": [
    "#Separate our features from our target\n",
    "X = df.loc[:,['Runtime(min)','Widest Release','Budget Adj',\n",
    "               'Franchise Flag','GDP','Days in Release Calc','Netflix','CNK','FF2']]\n",
    "\n",
    "y = df.loc[:,'Domestic Total Gross']\n",
    "\n",
    "model_df = X.copy()\n",
    "#SPLIT TRAIN/VAL AND TEST HERE\n",
    "Xt_v, X_test, yt_v, y_test = train_test_split(X, y, test_size=.2, random_state=10)\n"
   ]
  },
  {
   "cell_type": "code",
   "execution_count": null,
   "metadata": {
    "ExecuteTime": {
     "end_time": "2020-02-06T17:40:15.817654Z",
     "start_time": "2020-02-06T17:40:15.272426Z"
    }
   },
   "outputs": [],
   "source": [
    "sns.distplot(yt_v);"
   ]
  },
  {
   "cell_type": "code",
   "execution_count": null,
   "metadata": {
    "ExecuteTime": {
     "end_time": "2020-02-06T17:40:16.115979Z",
     "start_time": "2020-02-06T17:40:16.103403Z"
    }
   },
   "outputs": [],
   "source": [
    "yt_v.describe()"
   ]
  },
  {
   "cell_type": "code",
   "execution_count": null,
   "metadata": {
    "ExecuteTime": {
     "end_time": "2020-02-06T17:40:38.664281Z",
     "start_time": "2020-02-06T17:40:38.649422Z"
    }
   },
   "outputs": [],
   "source": [
    "model_df.head()"
   ]
  },
  {
   "cell_type": "code",
   "execution_count": null,
   "metadata": {
    "ExecuteTime": {
     "end_time": "2019-10-11T13:43:37.972840Z",
     "start_time": "2019-10-11T13:43:37.925196Z"
    }
   },
   "outputs": [],
   "source": [
    "Xt_v == model_df.loc[Xt_v.index]"
   ]
  },
  {
   "cell_type": "code",
   "execution_count": null,
   "metadata": {
    "ExecuteTime": {
     "end_time": "2020-02-06T17:44:41.609605Z",
     "start_time": "2020-02-06T17:44:41.573244Z"
    }
   },
   "outputs": [],
   "source": [
    "def split_reg_and_validate(X, y, a):\n",
    "    '''\n",
    "    Cross validate train/val data on three models (linear, LASSO, Ridge) and report results\n",
    "    '''\n",
    "    \n",
    "    features = X.columns\n",
    "    X_ar = np.array(X) # returns an np.array\n",
    "    y_ar = np.array(y) #this helps with the way kf will generate indices below\n",
    "    \n",
    "\n",
    "    \n",
    "    #peform CV\n",
    "    kf = KFold(n_splits=5, shuffle=True, random_state = 73)\n",
    "    lm_r2s = [] #collect train results\n",
    "    lm_list = [] \n",
    "    cv_lm_r2s = [] #collect the validation results\n",
    "    lm_coefs = [] # collect coefs simple regression\n",
    "    \n",
    "    lasso_r2s = [] #collect lasso val results\n",
    "    lasso_coefs = [] #collect lasso coefs for LASSO\n",
    "    lasso_list = []\n",
    "    \n",
    "    ridge_list = []\n",
    "    ridge_r2s = []\n",
    "    ridge_coefs = []\n",
    "    \n",
    "    stds = []\n",
    "    \n",
    "    for train_ind, val_ind in kf.split(X_ar,y_ar):\n",
    "    \n",
    "        X_train, y_train = X_ar[train_ind], y_ar[train_ind]\n",
    "        X_val, y_val = X_ar[val_ind], y_ar[val_ind] \n",
    "\n",
    "        std = StandardScaler()\n",
    "        X_train_std = std.fit_transform(X_train)\n",
    "        stds.append(std)\n",
    "        X_val_std = std.transform(X_val)\n",
    "        \n",
    "        #simple linear regression\n",
    "        lm = LinearRegression()\n",
    "        \n",
    "        lm.fit(X_train_std, y_train)\n",
    "        lm_list.append(lm)\n",
    "        lm_r2s.append(lm.score(X_train_std,y_train))\n",
    "        cv_lm_r2s.append(lm.score(X_val_std, y_val))\n",
    "        lm_coefs.append(lm.coef_)\n",
    "        \n",
    "        \n",
    "        #Lasso model\n",
    "        lasso = Lasso(alpha = a,max_iter = 1000000)\n",
    "        lasso.fit(X_train_std,y_train)\n",
    "        lasso_list.append(lasso)\n",
    "        lasso_r2s.append(lasso.score(X_val_std,y_val))\n",
    "        lasso_coefs.append(lasso.coef_)\n",
    "        \n",
    "        #Ridge model\n",
    "        ridge = Ridge(alpha = a,)\n",
    "        ridge.fit(X_train_std,y_train)\n",
    "        ridge_list.append(ridge)\n",
    "        ridge_r2s.append(ridge.score(X_val_std,y_val))\n",
    "        ridge_coefs.append(ridge.coef_)\n",
    "    \n",
    "   \n",
    "    \n",
    "    print('Simple regression train scores: ', lm_r2s)\n",
    "    print('Simple regression cv scores: ', cv_lm_r2s)\n",
    "    print('LASSO regression cv scores: ', lasso_r2s)\n",
    "    print('Ridge regression cv scores: ', ridge_r2s)\n",
    "    \n",
    "    print(f'Simple mean train r^2: {np.mean(lm_r2s):.3f} +- {np.std(lm_r2s):.3f}')\n",
    "    print(f'Simple mean cv r^2: {np.mean(cv_lm_r2s):.3f} +- {np.std(cv_lm_r2s):.3f}')\n",
    "    print(f'LASSO mean cv r^2: {np.mean(lasso_r2s):.3f} +- {np.std(lasso_r2s):.3f}')\n",
    "    print(f'Ridge mean cv r^2: {np.mean(ridge_r2s):.3f} +- {np.std(ridge_r2s):.3f}')\n",
    "    \n",
    "    print('Simple reg coefs: \\n', dict(zip(features,lm_coefs[cv_lm_r2s.index(max(cv_lm_r2s))])))\n",
    "    print('LASSO coefs: \\n', dict(zip(features,lasso_coefs[lasso_r2s.index(max(lasso_r2s))])))\n",
    "    \n",
    "    plt.scatter(y_val,y_val-lasso.predict(X_val_std),alpha=.1)\n",
    "    plt.plot(np.linspace(0,6000,1000),np.linspace(0,0,1000))\n",
    "\n",
    "    return lm_list[cv_lm_r2s.index(max(cv_lm_r2s))], lasso_list[lasso_r2s.index(max(lasso_r2s))],stds[cv_lm_r2s.index(max(cv_lm_r2s))]"
   ]
  },
  {
   "cell_type": "code",
   "execution_count": null,
   "metadata": {
    "ExecuteTime": {
     "end_time": "2020-02-06T17:45:05.501204Z",
     "start_time": "2020-02-06T17:45:05.004733Z"
    }
   },
   "outputs": [],
   "source": [
    "lm1, lasso1, std1 = split_reg_and_validate(model_df.loc[Xt_v.index],yt_v,1000)"
   ]
  },
  {
   "cell_type": "code",
   "execution_count": null,
   "metadata": {
    "ExecuteTime": {
     "end_time": "2020-02-06T17:45:12.810977Z",
     "start_time": "2020-02-06T17:45:12.805620Z"
    }
   },
   "outputs": [],
   "source": [
    "Xt_v.columns"
   ]
  },
  {
   "cell_type": "code",
   "execution_count": null,
   "metadata": {
    "ExecuteTime": {
     "end_time": "2020-02-06T17:49:48.439041Z",
     "start_time": "2020-02-06T17:49:47.946842Z"
    }
   },
   "outputs": [],
   "source": [
    "X2 = model_df.copy()\n",
    "#adding polynomial features\n",
    "\n",
    "X2['WR2'] = X2['Widest Release'] ** 2\n",
    "X2['B2'] = X2['Budget Adj'] ** 2\n",
    "X2['GDP2'] = X2['GDP'] ** 2\n",
    "X2['FF2^2'] = X2['FF2'] ** 2\n",
    "\n",
    "lm2, lasso2, std2 = split_reg_and_validate(X2.loc[Xt_v.index],yt_v,100000) "
   ]
  },
  {
   "cell_type": "code",
   "execution_count": null,
   "metadata": {
    "ExecuteTime": {
     "end_time": "2020-02-06T17:50:44.795078Z",
     "start_time": "2020-02-06T17:50:44.062607Z"
    }
   },
   "outputs": [],
   "source": [
    "X3 = X2.copy()\n",
    "#adding interaction terms\n",
    "\n",
    "X3['B_x_WR'] = X3['Budget Adj'] * X3['Widest Release']\n",
    "X3['B_x_DR'] = X3['Budget Adj'] * X3['Days in Release Calc']\n",
    "X3['B_x_FF'] = X3['Budget Adj'] * X3['Franchise Flag']\n",
    "X3['B_x_GDP'] = X3['Budget Adj'] * X3['GDP']\n",
    "\n",
    "X3['WR_x_DR'] = X3['Widest Release'] * X3['Days in Release Calc']\n",
    "\n",
    "X3['RT_x_DR'] = X3['Runtime(min)'] * X3['Days in Release Calc']\n",
    "X3['RT_x_FF'] = X3['Runtime(min)'] * X3['Franchise Flag']\n",
    "\n",
    "X3['DR_x_FF'] = X3['Days in Release Calc'] * X3['Franchise Flag']\n",
    "X3['DR_x_CNK'] = X3['Days in Release Calc'] * X3['CNK']\n",
    "\n",
    "lm3, lasso3, std3 = split_reg_and_validate(X3.loc[Xt_v.index],yt_v,1000)"
   ]
  },
  {
   "cell_type": "code",
   "execution_count": null,
   "metadata": {
    "ExecuteTime": {
     "end_time": "2020-02-06T17:52:18.682061Z",
     "start_time": "2020-02-06T17:52:17.997668Z"
    }
   },
   "outputs": [],
   "source": [
    "X4 = X3.copy()\n",
    "\n",
    "#ADD CATEGORICAL VARIABLES FROM df\n",
    "\n",
    "X4['MPAA'] = df.loc[Xt_v.index,'MPAA']\n",
    "X4['Month'] = df.loc[Xt_v.index,'Month']\n",
    "X4['Dist'] = df.loc[Xt_v.index,'Distributor']\n",
    "X4['Actor'] = df.loc[Xt_v.index,'Actor']\n",
    "\n",
    "X4 = pd.get_dummies(X4, columns = ['MPAA','Month','Dist','Actor'])\n",
    "lm4, lasso4, std4 = split_reg_and_validate(X4.loc[Xt_v.index],yt_v,100000)"
   ]
  },
  {
   "cell_type": "code",
   "execution_count": null,
   "metadata": {
    "ExecuteTime": {
     "end_time": "2020-02-06T17:54:05.638486Z",
     "start_time": "2020-02-06T17:54:04.890745Z"
    },
    "scrolled": false
   },
   "outputs": [],
   "source": [
    "X5 = X4.copy()\n",
    "\n",
    "#adding interaction terms with dummy variables\n",
    "\n",
    "X5['FF_x_RDJ'] = X5['Franchise Flag'] * X5['Actor_Robert Downey, Jr.']\n",
    "X5['FF_x_TP'] = X5['Franchise Flag'] * X5['Actor_Tyler Perry']\n",
    "X5['FF_x_BV'] = X5['Franchise Flag'] * X5['Dist_Buena Vista']\n",
    "X5['FF2_x_June'] = X5['FF2'] * X5['Month_June']\n",
    "X5['WR2_x_FF2'] = X5['WR2'] * X5['FF2']\n",
    "\n",
    "\n",
    "split_reg_and_validate(X5.loc[Xt_v.index],yt_v,100000)"
   ]
  },
  {
   "cell_type": "code",
   "execution_count": null,
   "metadata": {
    "ExecuteTime": {
     "end_time": "2020-02-06T17:56:05.212264Z",
     "start_time": "2020-02-06T17:56:05.201042Z"
    }
   },
   "outputs": [],
   "source": [
    "std_t = StandardScaler()\n",
    "std_t.fit(X5.loc[Xt_v.index].values)"
   ]
  },
  {
   "cell_type": "code",
   "execution_count": null,
   "metadata": {
    "ExecuteTime": {
     "end_time": "2020-02-06T17:56:09.998224Z",
     "start_time": "2020-02-06T17:56:09.991897Z"
    }
   },
   "outputs": [],
   "source": [
    "X5tr = std_t.transform(X5.loc[Xt_v.index].values)"
   ]
  },
  {
   "cell_type": "code",
   "execution_count": null,
   "metadata": {
    "ExecuteTime": {
     "end_time": "2020-02-06T17:56:23.018499Z",
     "start_time": "2020-02-06T17:56:15.376494Z"
    }
   },
   "outputs": [],
   "source": [
    "alphavec = 10**np.linspace(2,6,1000)\n",
    "\n",
    "lasso_model5 = LassoCV(alphas = alphavec, cv=5,max_iter = 100000)\n",
    "lasso_model5.fit(X5tr, yt_v)\n",
    "lasso_model5.score(X5tr,yt_v)"
   ]
  },
  {
   "cell_type": "code",
   "execution_count": null,
   "metadata": {
    "ExecuteTime": {
     "end_time": "2020-02-06T17:56:24.286437Z",
     "start_time": "2020-02-06T17:56:24.280210Z"
    }
   },
   "outputs": [],
   "source": [
    "final_alpha = lasso_model5.alpha_\n",
    "final_alpha"
   ]
  },
  {
   "cell_type": "code",
   "execution_count": null,
   "metadata": {
    "ExecuteTime": {
     "end_time": "2020-02-06T17:56:27.470498Z",
     "start_time": "2020-02-06T17:56:27.464232Z"
    }
   },
   "outputs": [],
   "source": [
    "X5.loc[X_test.index].shape"
   ]
  },
  {
   "cell_type": "code",
   "execution_count": null,
   "metadata": {
    "ExecuteTime": {
     "end_time": "2020-02-06T17:56:32.717868Z",
     "start_time": "2020-02-06T17:56:32.712581Z"
    }
   },
   "outputs": [],
   "source": [
    "X_te = std_t.transform(X5.loc[X_test.index].values)"
   ]
  },
  {
   "cell_type": "code",
   "execution_count": null,
   "metadata": {
    "ExecuteTime": {
     "end_time": "2020-02-06T17:56:33.668214Z",
     "start_time": "2020-02-06T17:56:33.663505Z"
    }
   },
   "outputs": [],
   "source": [
    "X_te.shape"
   ]
  },
  {
   "cell_type": "code",
   "execution_count": null,
   "metadata": {
    "ExecuteTime": {
     "end_time": "2020-02-06T17:56:42.584204Z",
     "start_time": "2020-02-06T17:56:42.503414Z"
    }
   },
   "outputs": [],
   "source": [
    "lasso_final = Lasso(alpha = final_alpha, max_iter = 100000)\n",
    "lasso_final.fit(X5tr,yt_v)\n",
    "lasso_final.score(X5tr,yt_v)"
   ]
  },
  {
   "cell_type": "code",
   "execution_count": null,
   "metadata": {
    "ExecuteTime": {
     "end_time": "2020-02-06T17:56:44.728198Z",
     "start_time": "2020-02-06T17:56:44.719839Z"
    }
   },
   "outputs": [],
   "source": [
    "final_score = lasso_final.score(X_te,y_test)\n",
    "final_score"
   ]
  },
  {
   "cell_type": "code",
   "execution_count": null,
   "metadata": {
    "ExecuteTime": {
     "end_time": "2020-02-06T17:56:48.019701Z",
     "start_time": "2020-02-06T17:56:48.015350Z"
    }
   },
   "outputs": [],
   "source": [
    "final_pred = lasso_final.predict(X_te)"
   ]
  },
  {
   "cell_type": "code",
   "execution_count": null,
   "metadata": {
    "ExecuteTime": {
     "end_time": "2020-02-06T17:56:49.356933Z",
     "start_time": "2020-02-06T17:56:48.820918Z"
    }
   },
   "outputs": [],
   "source": [
    "sns.regplot(final_pred,y_test,scatter_kws = {'alpha':.2});"
   ]
  },
  {
   "cell_type": "code",
   "execution_count": null,
   "metadata": {
    "ExecuteTime": {
     "end_time": "2020-02-06T18:17:56.672129Z",
     "start_time": "2020-02-06T18:17:56.666855Z"
    }
   },
   "outputs": [],
   "source": [
    "final_test_df = X5.loc[X_test.index]"
   ]
  },
  {
   "cell_type": "code",
   "execution_count": null,
   "metadata": {
    "ExecuteTime": {
     "end_time": "2020-02-06T18:17:59.180312Z",
     "start_time": "2020-02-06T18:17:59.154282Z"
    }
   },
   "outputs": [],
   "source": [
    "final_test_df = final_test_df.join(y_test)\n",
    "final_test_df['preds'] = lasso_final.predict(X_te)\n",
    "final_test_df['resid'] = final_test_df['preds']- final_test_df['Domestic Total Gross']\n",
    "final_test_df.sort_values(by = 'resid',ascending = False)\n",
    "final_test_df['resid abs'] = np.absolute(final_test_df['resid'])\n",
    "final_test_df.sort_values(by = 'resid abs')\n",
    "final_test_df = final_test_df.join(df['Title'])\n",
    "final_test_df.groupby('Title')"
   ]
  },
  {
   "cell_type": "code",
   "execution_count": null,
   "metadata": {
    "ExecuteTime": {
     "end_time": "2020-02-06T18:18:02.922903Z",
     "start_time": "2020-02-06T18:18:02.338239Z"
    }
   },
   "outputs": [],
   "source": [
    "sns.regplot(final_test_df['preds'],final_test_df['Domestic Total Gross'],scatter_kws = {'alpha':.2});"
   ]
  },
  {
   "cell_type": "code",
   "execution_count": null,
   "metadata": {
    "ExecuteTime": {
     "end_time": "2020-02-06T18:35:13.476791Z",
     "start_time": "2020-02-06T18:35:13.463239Z"
    }
   },
   "outputs": [],
   "source": [
    "#Mean Absolute Error (MAE)\n",
    "def mae(y_true, y_pred):\n",
    "    return np.mean(np.abs(y_pred - y_true)) "
   ]
  },
  {
   "cell_type": "code",
   "execution_count": null,
   "metadata": {
    "ExecuteTime": {
     "end_time": "2020-02-06T18:35:22.685250Z",
     "start_time": "2020-02-06T18:35:22.678883Z"
    }
   },
   "outputs": [],
   "source": [
    "mae(y_test,final_pred)"
   ]
  },
  {
   "cell_type": "code",
   "execution_count": null,
   "metadata": {
    "ExecuteTime": {
     "end_time": "2020-02-06T17:59:15.342833Z",
     "start_time": "2020-02-06T17:59:15.337203Z"
    }
   },
   "outputs": [],
   "source": [
    "with open('final_test_df.pkl','wb') as picklefile:\n",
    "    pickle.dump(final_test_df,picklefile)"
   ]
  },
  {
   "cell_type": "code",
   "execution_count": null,
   "metadata": {},
   "outputs": [],
   "source": []
  }
 ],
 "metadata": {
  "kernelspec": {
   "display_name": "Python 3",
   "language": "python",
   "name": "python3"
  },
  "language_info": {
   "codemirror_mode": {
    "name": "ipython",
    "version": 3
   },
   "file_extension": ".py",
   "mimetype": "text/x-python",
   "name": "python",
   "nbconvert_exporter": "python",
   "pygments_lexer": "ipython3",
   "version": "3.7.3"
  },
  "toc": {
   "base_numbering": 1,
   "nav_menu": {},
   "number_sections": true,
   "sideBar": true,
   "skip_h1_title": false,
   "title_cell": "Table of Contents",
   "title_sidebar": "Contents",
   "toc_cell": true,
   "toc_position": {},
   "toc_section_display": true,
   "toc_window_display": false
  },
  "varInspector": {
   "cols": {
    "lenName": 16,
    "lenType": 16,
    "lenVar": 40
   },
   "kernels_config": {
    "python": {
     "delete_cmd_postfix": "",
     "delete_cmd_prefix": "del ",
     "library": "var_list.py",
     "varRefreshCmd": "print(var_dic_list())"
    },
    "r": {
     "delete_cmd_postfix": ") ",
     "delete_cmd_prefix": "rm(",
     "library": "var_list.r",
     "varRefreshCmd": "cat(var_dic_list()) "
    }
   },
   "types_to_exclude": [
    "module",
    "function",
    "builtin_function_or_method",
    "instance",
    "_Feature"
   ],
   "window_display": false
  }
 },
 "nbformat": 4,
 "nbformat_minor": 2
}
