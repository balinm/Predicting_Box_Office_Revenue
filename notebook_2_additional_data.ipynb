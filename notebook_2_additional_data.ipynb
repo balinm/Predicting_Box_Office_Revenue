{
 "cells": [
  {
   "cell_type": "markdown",
   "metadata": {
    "toc": true
   },
   "source": [
    "<h1>Table of Contents<span class=\"tocSkip\"></span></h1>\n",
    "<div class=\"toc\"><ul class=\"toc-item\"></ul></div>"
   ]
  },
  {
   "cell_type": "code",
   "execution_count": null,
   "metadata": {
    "ExecuteTime": {
     "end_time": "2020-01-13T23:40:04.285541Z",
     "start_time": "2020-01-13T23:40:02.643191Z"
    }
   },
   "outputs": [],
   "source": [
    "import requests\n",
    "import re\n",
    "import dateutil.parser\n",
    "from bs4 import BeautifulSoup\n",
    "import pandas as pd\n",
    "import numpy as np\n",
    "import pickle\n",
    "import sys\n",
    "import datetime as dt\n",
    "%matplotlib inline\n",
    "import seaborn as sns\n",
    "import matplotlib.pyplot as plt"
   ]
  },
  {
   "cell_type": "code",
   "execution_count": null,
   "metadata": {
    "ExecuteTime": {
     "end_time": "2019-10-07T01:44:30.509442Z",
     "start_time": "2019-10-07T01:44:30.496127Z"
    }
   },
   "outputs": [],
   "source": [
    "with open(\"movie_df.pkl\", 'rb') as picklefile: \n",
    "    df = pickle.load(picklefile)"
   ]
  },
  {
   "cell_type": "code",
   "execution_count": null,
   "metadata": {
    "ExecuteTime": {
     "end_time": "2019-10-07T02:00:50.353833Z",
     "start_time": "2019-10-07T02:00:50.349671Z"
    }
   },
   "outputs": [],
   "source": [
    "def franch_flag(row):\n",
    "    '''flag to indicate if movie is part of a franchise'''\n",
    "    \n",
    "    if len(row['Franchise(s)']) == 0:\n",
    "        return 0\n",
    "    else:\n",
    "        return 1"
   ]
  },
  {
   "cell_type": "code",
   "execution_count": null,
   "metadata": {
    "ExecuteTime": {
     "end_time": "2019-10-07T02:01:16.960130Z",
     "start_time": "2019-10-07T02:01:16.900178Z"
    }
   },
   "outputs": [],
   "source": [
    "df['Franchise Flag'] = df.apply(franch_flag, axis = 1)"
   ]
  },
  {
   "cell_type": "code",
   "execution_count": null,
   "metadata": {
    "ExecuteTime": {
     "end_time": "2019-10-07T02:38:55.973390Z",
     "start_time": "2019-10-07T02:38:55.966901Z"
    }
   },
   "outputs": [],
   "source": [
    "def quarter(row):\n",
    "    '''function to assing relase date to calendar quarter'''\n",
    "    \n",
    "    quarters = {'January': 'Q1','February': 'Q1','March': 'Q1','April':'Q2','May': 'Q2','June':'Q2',\n",
    "               'July':'Q3','August':'Q3','September':'Q3','October':'Q4','November':'Q4','December':'Q4'}\n",
    "    year = row['Release Date'].year\n",
    "    month = row['Release Date'].month_name()\n",
    "    return quarters[month]+str(year)"
   ]
  },
  {
   "cell_type": "code",
   "execution_count": null,
   "metadata": {
    "ExecuteTime": {
     "end_time": "2019-10-07T02:42:28.579797Z",
     "start_time": "2019-10-07T02:42:28.403041Z"
    }
   },
   "outputs": [],
   "source": [
    "df['Quarter'] = df.apply(quarter, axis = 1)"
   ]
  },
  {
   "cell_type": "code",
   "execution_count": null,
   "metadata": {
    "ExecuteTime": {
     "end_time": "2019-10-07T03:00:42.600039Z",
     "start_time": "2019-10-07T03:00:42.589718Z"
    }
   },
   "outputs": [],
   "source": [
    "#read in GDP data from csv\n",
    "quarter_map_df = pd.read_csv('GDP.csv')"
   ]
  },
  {
   "cell_type": "code",
   "execution_count": null,
   "metadata": {
    "ExecuteTime": {
     "end_time": "2019-10-07T03:13:12.835837Z",
     "start_time": "2019-10-07T03:13:12.831809Z"
    }
   },
   "outputs": [],
   "source": [
    "#convert map df to dict\n",
    "quarter_map = quarter_map_df.to_dict('split')"
   ]
  },
  {
   "cell_type": "code",
   "execution_count": null,
   "metadata": {},
   "outputs": [],
   "source": [
    "#create map from data of quarter_dict\n",
    "gdp_data = quarter_map['data']\n",
    "gdp_data\n",
    "gdp_map = {}\n",
    "for x in gdp_data:\n",
    "    gdp_map[x[0]] = x[1]"
   ]
  },
  {
   "cell_type": "code",
   "execution_count": null,
   "metadata": {
    "ExecuteTime": {
     "end_time": "2019-10-07T03:17:03.176515Z",
     "start_time": "2019-10-07T03:17:03.164470Z"
    }
   },
   "outputs": [],
   "source": [
    "df['GDP'] = df['Quarter'].map(gdp_map)"
   ]
  },
  {
   "cell_type": "code",
   "execution_count": null,
   "metadata": {
    "ExecuteTime": {
     "end_time": "2019-10-07T04:22:43.016479Z",
     "start_time": "2019-10-07T04:22:43.010262Z"
    }
   },
   "outputs": [],
   "source": [
    "#read in Netflix data from csv\n",
    "netflix_map_df = pd.read_csv('Netflix.csv')"
   ]
  },
  {
   "cell_type": "code",
   "execution_count": null,
   "metadata": {
    "ExecuteTime": {
     "end_time": "2019-10-07T04:22:43.475477Z",
     "start_time": "2019-10-07T04:22:43.471820Z"
    }
   },
   "outputs": [],
   "source": [
    "net_map = netflix_map_df.to_dict('split')"
   ]
  },
  {
   "cell_type": "code",
   "execution_count": null,
   "metadata": {},
   "outputs": [],
   "source": [
    "#create map from data of quarter_dict\n",
    "netflix_data = net_map['data']\n",
    "\n",
    "netflix_map = {}\n",
    "for x in netflix_data:\n",
    "    netflix_map[x[0]] = x[1]"
   ]
  },
  {
   "cell_type": "code",
   "execution_count": null,
   "metadata": {
    "ExecuteTime": {
     "end_time": "2019-10-07T04:22:48.720042Z",
     "start_time": "2019-10-07T04:22:48.714654Z"
    }
   },
   "outputs": [],
   "source": [
    "df['Netflix'] = df['Quarter'].map(netflix_map)"
   ]
  },
  {
   "cell_type": "code",
   "execution_count": null,
   "metadata": {
    "ExecuteTime": {
     "end_time": "2019-10-08T01:57:27.536043Z",
     "start_time": "2019-10-08T01:57:27.529762Z"
    }
   },
   "outputs": [],
   "source": [
    "df.rename(columns = {'Quarter':'QuarterYr'},inplace = True)"
   ]
  },
  {
   "cell_type": "code",
   "execution_count": null,
   "metadata": {
    "ExecuteTime": {
     "end_time": "2019-10-08T01:57:27.979418Z",
     "start_time": "2019-10-08T01:57:27.972674Z"
    }
   },
   "outputs": [],
   "source": [
    "df['Quarter'] = df['QuarterYr'].apply(lambda x: x[:2])"
   ]
  },
  {
   "cell_type": "code",
   "execution_count": null,
   "metadata": {},
   "outputs": [],
   "source": [
    "#dropped Budget column because essentially duplicate of Budget Adj\n",
    "df.drop(columns ='Budget',inplace = True)"
   ]
  },
  {
   "cell_type": "code",
   "execution_count": null,
   "metadata": {
    "ExecuteTime": {
     "end_time": "2019-10-08T01:57:42.793926Z",
     "start_time": "2019-10-08T01:57:42.770339Z"
    }
   },
   "outputs": [],
   "source": [
    "df['Days in Release Calc'] = (df['Close Date'] - df['Release Date']).dt.days + 1"
   ]
  },
  {
   "cell_type": "code",
   "execution_count": null,
   "metadata": {
    "ExecuteTime": {
     "end_time": "2019-10-07T20:41:20.649717Z",
     "start_time": "2019-10-07T20:41:20.624944Z"
    }
   },
   "outputs": [],
   "source": [
    "mask = ((df['Days in Release Calc'] != df['Days in Release']) &\n",
    "        (df['Days in Release'].notnull()))\n",
    "\n",
    "df[mask][['Title','Days in Release','Days in Release Calc','Release Date','Close Date']]"
   ]
  },
  {
   "cell_type": "code",
   "execution_count": null,
   "metadata": {
    "ExecuteTime": {
     "end_time": "2019-10-08T01:57:49.608848Z",
     "start_time": "2019-10-08T01:57:49.602409Z"
    }
   },
   "outputs": [],
   "source": [
    "# drop days in release after creating days in release - calc \n",
    "df.drop(columns = 'Days in Release',inplace = True)"
   ]
  },
  {
   "cell_type": "code",
   "execution_count": null,
   "metadata": {
    "ExecuteTime": {
     "end_time": "2019-10-07T20:50:13.028611Z",
     "start_time": "2019-10-07T20:50:12.976425Z"
    },
    "scrolled": false
   },
   "outputs": [],
   "source": [
    "df[df['Budget Adj'].isnull()]"
   ]
  },
  {
   "cell_type": "code",
   "execution_count": null,
   "metadata": {
    "ExecuteTime": {
     "end_time": "2019-10-08T01:58:05.417703Z",
     "start_time": "2019-10-08T01:58:05.349755Z"
    }
   },
   "outputs": [],
   "source": [
    "#manually fill 16 missing budget values from IMDB \n",
    "#(had to pull molly's game, victoria & abdul & deathly hallows pt 2 data from other sources)\n",
    "df.loc[df['Title']=='Vice','Budget Adj'] = 60000000 \n",
    "df.loc[df['Title']=='Coco','Budget Adj'] = 175000000\n",
    "df.loc[df['Title']=='I, Tonya','Budget Adj'] = 11000000\n",
    "df.loc[df['Title']=='Hostiles','Budget Adj'] = 39000000\n",
    "df.loc[df['Title']==\"Molly's Game\",'Budget Adj'] = 30000000\n",
    "df.loc[df['Title']=='All the Money in the World','Budget Adj'] = 50000000\n",
    "df.loc[df['Title']=='Victoria and Abdul','Budget Adj'] = 21000000\n",
    "df.loc[df['Title']=='Leap!','Budget Adj'] = 30000000\n",
    "df.loc[df['Title']=='10 Cloverfield Lane','Budget Adj'] = 15000000\n",
    "df.loc[df['Title']=='The Divergent Series: Allegiant','Budget Adj'] = 110000000\n",
    "df.loc[df['Title']=='Now You See Me 2','Budget Adj'] = 90000000\n",
    "df.loc[df['Title']=='My Big Fat Greek Wedding 2','Budget Adj'] = 18000000\n",
    "df.loc[df['Title']=='Zoolander 2','Budget Adj'] = 50000000\n",
    "df.loc[df['Title']=='Gnomeo and Juliet','Budget Adj'] = 36000000\n",
    "df.loc[df['Title']=='Harry Potter and the Deathly Hallows Part 1','Budget Adj'] = 125000000\n",
    "df.loc[df['Title']=='Bruno','Budget Adj'] = 42000000"
   ]
  },
  {
   "cell_type": "code",
   "execution_count": null,
   "metadata": {
    "ExecuteTime": {
     "end_time": "2019-10-11T00:32:27.496933Z",
     "start_time": "2019-10-11T00:32:27.491820Z"
    }
   },
   "outputs": [],
   "source": [
    "#create Yr column from QuarterYr\n",
    "df['Yr'] = df['QuarterYr'].apply(lambda x: x[2:])"
   ]
  },
  {
   "cell_type": "code",
   "execution_count": null,
   "metadata": {
    "ExecuteTime": {
     "end_time": "2019-10-11T00:32:27.505067Z",
     "start_time": "2019-10-11T00:32:27.500068Z"
    }
   },
   "outputs": [],
   "source": [
    "#create Month column\n",
    "df['Month'] = df['Release Date'].dt.month_name()"
   ]
  },
  {
   "cell_type": "code",
   "execution_count": null,
   "metadata": {
    "ExecuteTime": {
     "end_time": "2019-10-11T00:32:27.511815Z",
     "start_time": "2019-10-11T00:32:27.507914Z"
    }
   },
   "outputs": [],
   "source": [
    "def month_yr(row):\n",
    "    '''function to identify release month & year'''\n",
    "    year = row['Release Date'].year\n",
    "    month = row['Release Date'].month\n",
    "    return str(month) +'-'+str(year)"
   ]
  },
  {
   "cell_type": "code",
   "execution_count": null,
   "metadata": {
    "ExecuteTime": {
     "end_time": "2019-10-11T00:32:27.565235Z",
     "start_time": "2019-10-11T00:32:27.514053Z"
    }
   },
   "outputs": [],
   "source": [
    "#create column w/month-year from release date\n",
    "df['MonthYr'] = df.apply(month_yr,axis = 1)"
   ]
  },
  {
   "cell_type": "code",
   "execution_count": null,
   "metadata": {
    "ExecuteTime": {
     "end_time": "2019-10-11T00:32:27.576068Z",
     "start_time": "2019-10-11T00:32:27.567279Z"
    }
   },
   "outputs": [],
   "source": [
    "#read in monthly stock performance for Cinemark Holdings - largest public owner of theaters in US that had data\n",
    "#available 2009-2018\n",
    "cnk_map_df = pd.read_csv('CNK.csv')\n",
    "#convert map df to dict\n",
    "cnk_map_list = cnk_map_df.to_dict('split')\n",
    "\n",
    "#creat map from data of quarter_dict\n",
    "cnk_data = cnk_map_list['data']\n",
    "cnk_data\n",
    "cnk_map = {}\n",
    "for x in cnk_data:\n",
    "    cnk_map[x[0]] = x[1]"
   ]
  },
  {
   "cell_type": "code",
   "execution_count": null,
   "metadata": {
    "ExecuteTime": {
     "end_time": "2019-10-11T00:32:27.583315Z",
     "start_time": "2019-10-11T00:32:27.578069Z"
    }
   },
   "outputs": [],
   "source": [
    "df['CNK'] = df['MonthYr'].map(cnk_map)"
   ]
  },
  {
   "cell_type": "code",
   "execution_count": null,
   "metadata": {
    "ExecuteTime": {
     "end_time": "2019-10-11T00:32:27.590642Z",
     "start_time": "2019-10-11T00:32:27.586689Z"
    }
   },
   "outputs": [],
   "source": [
    "def pick_franchise(row):\n",
    "    '''function to assign franchise to movie if in multiple on BoxOfficeMojo\n",
    "    for example, Thor would be listed as in the Thor and MCU Franchises'''\n",
    "    \n",
    "    if len(row['Franchise(s)']) == 0:\n",
    "        franchise = 'None'\n",
    "    else:\n",
    "        franchise = row['Franchise(s)'][-1]\n",
    "    return franchise"
   ]
  },
  {
   "cell_type": "code",
   "execution_count": null,
   "metadata": {
    "ExecuteTime": {
     "end_time": "2019-10-11T00:32:27.641069Z",
     "start_time": "2019-10-11T00:32:27.593000Z"
    }
   },
   "outputs": [],
   "source": [
    "df['Franchise'] = df.apply(pick_franchise, axis = 1)"
   ]
  },
  {
   "cell_type": "code",
   "execution_count": null,
   "metadata": {
    "ExecuteTime": {
     "end_time": "2019-10-11T00:32:27.652640Z",
     "start_time": "2019-10-11T00:32:27.643431Z"
    }
   },
   "outputs": [],
   "source": [
    "df.loc[df['Title'] == 'Spider-Man: Homecoming','Franchise'] = 'Marvel Cinematic Universe' #correct franchise value"
   ]
  },
  {
   "cell_type": "code",
   "execution_count": null,
   "metadata": {
    "ExecuteTime": {
     "end_time": "2019-10-11T00:32:27.661818Z",
     "start_time": "2019-10-11T00:32:27.654763Z"
    }
   },
   "outputs": [],
   "source": [
    "df.loc[df['Franchise'] == 'Superman','Franchise'] = 'DC Extended Universe' #correct franchise value"
   ]
  },
  {
   "cell_type": "code",
   "execution_count": null,
   "metadata": {
    "ExecuteTime": {
     "end_time": "2019-10-11T00:32:27.676396Z",
     "start_time": "2019-10-11T00:32:27.664409Z"
    }
   },
   "outputs": [],
   "source": [
    "df.loc[df['Franchise'] == 'Thor','Franchise'] = 'Marvel Cinematic Universe' #correct franchise value"
   ]
  },
  {
   "cell_type": "code",
   "execution_count": null,
   "metadata": {},
   "outputs": [],
   "source": [
    "franchise_counts = df['Franchise'].value_counts()"
   ]
  },
  {
   "cell_type": "code",
   "execution_count": null,
   "metadata": {
    "ExecuteTime": {
     "end_time": "2019-10-11T13:43:02.276726Z",
     "start_time": "2019-10-11T13:43:02.269887Z"
    }
   },
   "outputs": [],
   "source": [
    "franchise_counts[franchise_counts > 2]\n",
    "other_franchises = list(franchise_counts[franchise_counts <= 2].index)\n",
    "other_franchises.append('None') # include None"
   ]
  },
  {
   "cell_type": "code",
   "execution_count": null,
   "metadata": {
    "ExecuteTime": {
     "end_time": "2019-10-11T13:43:02.291156Z",
     "start_time": "2019-10-11T13:43:02.279844Z"
    }
   },
   "outputs": [],
   "source": [
    "df['Franchise2'] = df.loc[:,'Franchise'].replace(other_franchises,'Other')"
   ]
  },
  {
   "cell_type": "code",
   "execution_count": null,
   "metadata": {
    "ExecuteTime": {
     "end_time": "2019-10-11T13:43:02.297873Z",
     "start_time": "2019-10-11T13:43:02.293971Z"
    }
   },
   "outputs": [],
   "source": [
    "def ff2(row):\n",
    "    '''Creates flag to indicate if movie is in a large franchise'''\n",
    "    if row['Franchise2'] != 'Other':\n",
    "        return 1\n",
    "    else:\n",
    "        return 0"
   ]
  },
  {
   "cell_type": "code",
   "execution_count": null,
   "metadata": {
    "ExecuteTime": {
     "end_time": "2019-10-11T13:43:02.340594Z",
     "start_time": "2019-10-11T13:43:02.301258Z"
    }
   },
   "outputs": [],
   "source": [
    "df['FF2'] = df.apply(ff2,axis = 1)"
   ]
  },
  {
   "cell_type": "code",
   "execution_count": null,
   "metadata": {
    "ExecuteTime": {
     "end_time": "2019-10-11T13:43:02.410697Z",
     "start_time": "2019-10-11T13:43:02.403038Z"
    }
   },
   "outputs": [],
   "source": [
    "#drop two null movies\n",
    "df.dropna(inplace = True)"
   ]
  },
  {
   "cell_type": "code",
   "execution_count": null,
   "metadata": {
    "ExecuteTime": {
     "end_time": "2019-10-11T13:43:02.419265Z",
     "start_time": "2019-10-11T13:43:02.413403Z"
    }
   },
   "outputs": [],
   "source": [
    "# drop Franchise(s) column --> info captured in franchise flag\n",
    "# drop Producer column --> exclude becuase viewing this through lense of a producer\n",
    "df.drop(columns = ['Franchise(s)','Producer'],inplace = True) "
   ]
  },
  {
   "cell_type": "code",
   "execution_count": null,
   "metadata": {
    "ExecuteTime": {
     "end_time": "2019-10-11T13:43:02.480585Z",
     "start_time": "2019-10-11T13:43:02.475668Z"
    }
   },
   "outputs": [],
   "source": [
    "actor_counts = df['Actor'].value_counts()"
   ]
  },
  {
   "cell_type": "code",
   "execution_count": null,
   "metadata": {
    "ExecuteTime": {
     "end_time": "2019-10-11T13:43:02.489226Z",
     "start_time": "2019-10-11T13:43:02.482709Z"
    }
   },
   "outputs": [],
   "source": [
    "#add actors with a movie count below threshold to other_actors list\n",
    "actor_counts[actor_counts > 7]\n",
    "other_actors = list(actor_counts[actor_counts <= 7].index)\n",
    "other_actors.append('Unknown') # include Unknown --> actor is likely not 'important' if no page on boxofficemojo"
   ]
  },
  {
   "cell_type": "code",
   "execution_count": null,
   "metadata": {
    "ExecuteTime": {
     "end_time": "2019-10-11T13:43:02.500500Z",
     "start_time": "2019-10-11T13:43:02.491613Z"
    }
   },
   "outputs": [],
   "source": [
    "#add directors with a movie count below threshold to other_directors list\n",
    "director_counts = df['Director'].value_counts()\n",
    "director_counts[director_counts >= 6]\n",
    "other_directors = list(director_counts[director_counts < 6].index)\n",
    "other_directors.append('Unknown')"
   ]
  },
  {
   "cell_type": "code",
   "execution_count": null,
   "metadata": {
    "ExecuteTime": {
     "end_time": "2019-10-11T13:43:02.511862Z",
     "start_time": "2019-10-11T13:43:02.502691Z"
    }
   },
   "outputs": [],
   "source": [
    "#add writers with a movie count below threshold to other_writers list\n",
    "writer_counts = df['Writer'].value_counts()\n",
    "writer_counts[writer_counts >= 5]\n",
    "other_writers = list(writer_counts[writer_counts < 5].index)\n",
    "other_writers.append('Unknown')"
   ]
  },
  {
   "cell_type": "code",
   "execution_count": null,
   "metadata": {
    "ExecuteTime": {
     "end_time": "2019-10-11T13:43:02.522860Z",
     "start_time": "2019-10-11T13:43:02.515548Z"
    }
   },
   "outputs": [],
   "source": [
    "#add distributors with a movie count below threshold to other_distrib list\n",
    "distrib_counts = df['Distributor'].value_counts()\n",
    "other_distrib = list(distrib_counts[distrib_counts < 25].index)"
   ]
  },
  {
   "cell_type": "code",
   "execution_count": null,
   "metadata": {
    "ExecuteTime": {
     "end_time": "2019-10-11T13:43:02.566581Z",
     "start_time": "2019-10-11T13:43:02.561902Z"
    }
   },
   "outputs": [],
   "source": [
    "#add genres with a movie count below threshold to other_genre list\n",
    "genre_counts = df['Genre'].value_counts()"
   ]
  },
  {
   "cell_type": "code",
   "execution_count": null,
   "metadata": {
    "ExecuteTime": {
     "end_time": "2019-10-11T13:43:02.574906Z",
     "start_time": "2019-10-11T13:43:02.568643Z"
    }
   },
   "outputs": [],
   "source": [
    "#read in genre mappings to consolidate categories  from csv\n",
    "genre_map_df = pd.read_csv('Genres.csv')"
   ]
  },
  {
   "cell_type": "code",
   "execution_count": null,
   "metadata": {
    "ExecuteTime": {
     "end_time": "2019-10-11T13:43:02.581653Z",
     "start_time": "2019-10-11T13:43:02.577030Z"
    }
   },
   "outputs": [],
   "source": [
    "genre_map_dict = genre_map_df.to_dict('split')\n",
    "genre_data = genre_map_dict['data']\n",
    "genre_map = {}\n",
    "for x in genre_data:\n",
    "    genre_map[x[0]] = x[1]\n",
    "# genre_map"
   ]
  },
  {
   "cell_type": "code",
   "execution_count": null,
   "metadata": {
    "ExecuteTime": {
     "end_time": "2019-10-11T13:43:02.588279Z",
     "start_time": "2019-10-11T13:43:02.583920Z"
    }
   },
   "outputs": [],
   "source": [
    "df['Genre'] = df['Genre'].map(genre_map) #decided not to create 'other genre' category"
   ]
  },
  {
   "cell_type": "code",
   "execution_count": null,
   "metadata": {},
   "outputs": [],
   "source": [
    "#copy df before replacing wtih 'other'categories\n",
    "df2 = df.copy()\n",
    "\n",
    "#create 'other' categories for actor, director, distributor and writer columns\n",
    "df2['Actor'].replace(other_actors,'Other',inplace = True)\n",
    "df2['Director'].replace(other_directors,'Other',inplace = True)\n",
    "df2['Writer'].replace(other_writers,'Other',inplace = True)\n",
    "df2['Distributor'].replace(other_distrib,'Other',inplace = True)\n",
    "df2.info()"
   ]
  },
  {
   "cell_type": "code",
   "execution_count": null,
   "metadata": {},
   "outputs": [],
   "source": [
    "with open('modeling_data.pkl','wb') as picklefile:\n",
    "    pickle.dump(df2,picklefile)"
   ]
  }
 ],
 "metadata": {
  "kernelspec": {
   "display_name": "Python 3",
   "language": "python",
   "name": "python3"
  },
  "language_info": {
   "codemirror_mode": {
    "name": "ipython",
    "version": 3
   },
   "file_extension": ".py",
   "mimetype": "text/x-python",
   "name": "python",
   "nbconvert_exporter": "python",
   "pygments_lexer": "ipython3",
   "version": "3.7.3"
  },
  "toc": {
   "base_numbering": 1,
   "nav_menu": {},
   "number_sections": true,
   "sideBar": true,
   "skip_h1_title": false,
   "title_cell": "Table of Contents",
   "title_sidebar": "Contents",
   "toc_cell": true,
   "toc_position": {},
   "toc_section_display": true,
   "toc_window_display": true
  },
  "varInspector": {
   "cols": {
    "lenName": 16,
    "lenType": 16,
    "lenVar": 40
   },
   "kernels_config": {
    "python": {
     "delete_cmd_postfix": "",
     "delete_cmd_prefix": "del ",
     "library": "var_list.py",
     "varRefreshCmd": "print(var_dic_list())"
    },
    "r": {
     "delete_cmd_postfix": ") ",
     "delete_cmd_prefix": "rm(",
     "library": "var_list.r",
     "varRefreshCmd": "cat(var_dic_list()) "
    }
   },
   "types_to_exclude": [
    "module",
    "function",
    "builtin_function_or_method",
    "instance",
    "_Feature"
   ],
   "window_display": false
  }
 },
 "nbformat": 4,
 "nbformat_minor": 2
}
